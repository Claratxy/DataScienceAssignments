{
 "cells": [
  {
   "cell_type": "markdown",
   "id": "ad203ffa-d39b-455d-b6d5-317f7cc4bbcb",
   "metadata": {},
   "source": [
    "# <b> Data Science Tools and Ecosystem ##"
   ]
  },
  {
   "cell_type": "markdown",
   "id": "1c3b9d9b-31a2-4cd8-952b-a9563a9ad5c5",
   "metadata": {},
   "source": [
    "In this notebook, Data Science Tools and Ecosystem are summarized."
   ]
  },
  {
   "cell_type": "markdown",
   "id": "7b8cee69-4d5e-4dc2-903f-7ce04c32e259",
   "metadata": {},
   "source": [
    "Some of the popular languages that Data Scientists use are:\n",
    "1. Python\n",
    "2. SQL\n",
    "3. Java\n",
    "4. R\n",
    "5. Julia"
   ]
  },
  {
   "cell_type": "markdown",
   "id": "2ed48cc4-35fb-4363-a71f-d81cee1b379e",
   "metadata": {},
   "source": [
    "Some of the commonly used libraries used by Data Scientists include:\n",
    "1. Pandas\n",
    "2. NumPy\n",
    "3. TensorFlow\n",
    "4. Scikit-learn\n",
    "5. Matplotlib"
   ]
  },
  {
   "cell_type": "markdown",
   "id": "70966bdd-8173-4e88-9ddc-0551127e5318",
   "metadata": {},
   "source": [
    "| Data Science Tools       |\r\n",
    "|--------------------------|\r\n",
    "| Jupyter Notebook         |\r\n",
    "| RStudio                  |\r\n",
    "| Apache Zeppelin          |\r\n"
   ]
  },
  {
   "cell_type": "markdown",
   "id": "0a3caacc-37b5-4164-a528-9d8ccd1761a4",
   "metadata": {},
   "source": [
    "### Below are a few examples of evaluating arithmetic expressions in Python.\r\n"
   ]
  },
  {
   "cell_type": "code",
   "execution_count": 7,
   "id": "3ea1b101-3d4f-44da-9a52-ed4c7d580ed0",
   "metadata": {},
   "outputs": [
    {
     "data": {
      "text/plain": [
       "17"
      ]
     },
     "execution_count": 7,
     "metadata": {},
     "output_type": "execute_result"
    }
   ],
   "source": [
    "# This is a simple arithmetic expression to multiply then add integers\n",
    "(3 * 4) + 5"
   ]
  },
  {
   "cell_type": "code",
   "execution_count": 11,
   "id": "51e9dc1d-d20a-4e58-9337-f8a0c3797a1e",
   "metadata": {},
   "outputs": [
    {
     "data": {
      "text/plain": [
       "3.3333333333333335"
      ]
     },
     "execution_count": 11,
     "metadata": {},
     "output_type": "execute_result"
    }
   ],
   "source": [
    "# This will convert 200 minutes to hours by dividing by 60\n",
    "200 / 60"
   ]
  },
  {
   "cell_type": "markdown",
   "id": "c08f8977-6a0c-473f-ad4a-4259bd81c4b4",
   "metadata": {},
   "source": [
    "**Objectives:**\r\n",
    "\r\n",
    "- List popular languages for Data Science  \r\n",
    "- Introduce open-source tools commonly used in Data Science  \r\n",
    "- Demonstrate how to use Markdown cells to format content  \r\n",
    "- Perform basic arithmetic operations using Python  \r\n",
    "- Convert units like minutes to hours using code\r\n"
   ]
  },
  {
   "cell_type": "markdown",
   "id": "088557f2-4b5d-4f65-80e3-f62c16b24955",
   "metadata": {},
   "source": [
    "## Author  \r",
    "Clara Tan Xin Yue\r\n"
   ]
  },
  {
   "cell_type": "code",
   "execution_count": null,
   "id": "92b7c96a-4ba7-467c-a073-bb7012259846",
   "metadata": {},
   "outputs": [],
   "source": []
  }
 ],
 "metadata": {
  "kernelspec": {
   "display_name": "Python 3 (ipykernel)",
   "language": "python",
   "name": "python3"
  },
  "language_info": {
   "codemirror_mode": {
    "name": "ipython",
    "version": 3
   },
   "file_extension": ".py",
   "mimetype": "text/x-python",
   "name": "python",
   "nbconvert_exporter": "python",
   "pygments_lexer": "ipython3",
   "version": "3.12.4"
  }
 },
 "nbformat": 4,
 "nbformat_minor": 5
}
